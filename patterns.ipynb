{
 "cells": [
  {
   "cell_type": "code",
   "execution_count": 156,
   "id": "14b0da4b",
   "metadata": {},
   "outputs": [
    {
     "name": "stdout",
     "output_type": "stream",
     "text": [
      "1\t2\t3\t4\t5\t\n",
      "2\t4\t6\t8\t10\t\n",
      "3\t6\t9\t12\t15\t\n",
      "4\t8\t12\t16\t20\t\n",
      "5\t10\t15\t20\t25\t\n",
      "6\t12\t18\t24\t30\t\n",
      "7\t14\t21\t28\t35\t\n",
      "8\t16\t24\t32\t40\t\n",
      "9\t18\t27\t36\t45\t\n",
      "10\t20\t30\t40\t50\t\n"
     ]
    }
   ],
   "source": [
    "for i in range(1, 11):       # Outer loop: i goes from 1 to 5\n",
    "    for j in range(1, 6):   # Inner loop: j also goes from 1 to 5\n",
    "        print(i * j, end='\\t')  # Multiply i and j, print with tab space (no newline)\n",
    "    print()   "
   ]
  },
  {
   "cell_type": "code",
   "execution_count": 157,
   "id": "1da5fb5d",
   "metadata": {},
   "outputs": [
    {
     "name": "stdout",
     "output_type": "stream",
     "text": [
      "* \n",
      "* * \n",
      "* * * \n",
      "* * * * \n",
      "* * * * * \n"
     ]
    }
   ],
   "source": [
    "rows = 5\n",
    "for i in range(1,rows+1):  # i goes from 1 to 5\n",
    "    for j in range(i):        # j goes from 0 to i-1\n",
    "        print(\"*\", end=\" \")   # Print a star, stay on the same line\n",
    "    print()                   # After inner loop, go to new line\n"
   ]
  },
  {
   "cell_type": "code",
   "execution_count": 158,
   "id": "b78570ff",
   "metadata": {},
   "outputs": [
    {
     "name": "stdout",
     "output_type": "stream",
     "text": [
      "1 2 3 4 5 \n",
      "1 2 3 4 \n",
      "1 2 3 \n",
      "1 2 \n",
      "1 \n"
     ]
    }
   ],
   "source": [
    "'''for i in range(1, 6):           # i goes from 1 to 5\n",
    "    for j in range(1, i + 1):   # j goes from 1 to i\n",
    "        print(j, end=\" \")       # Print numbers 1 to i on the same line\n",
    "    print()'''\n",
    "for i in range(5,0,-1):           # i goes from 1 to 5\n",
    "    for j in range(1,i+1):   # j goes from 1 to i\n",
    "        print(j, end=\" \")       # Print numbers 1 to i on the same line\n",
    "    print()                     # Newline after each row\n"
   ]
  },
  {
   "cell_type": "code",
   "execution_count": 159,
   "id": "3a21ade4",
   "metadata": {},
   "outputs": [
    {
     "name": "stdout",
     "output_type": "stream",
     "text": [
      "A \n",
      "A B \n",
      "A B C \n",
      "A B C D \n",
      "A B C D E \n"
     ]
    }
   ],
   "source": [
    "'''for i in range(5, 0,-1):              # Rows from 1 to 5\n",
    "    for j in range(65, 65 + i):    # ASCII of 'A' is 65\n",
    "        print(chr(j), end=\" \")     # Convert number to character\n",
    "    print()'''\n",
    "for i in range(1,6):              # Rows from 1 to 5\n",
    "    for j in range(65, 65 + i):    # ASCII of 'A' is 65\n",
    "        print(chr(j), end=\" \")     # Convert number to character\n",
    "    print()\n",
    "\n"
   ]
  },
  {
   "cell_type": "code",
   "execution_count": 160,
   "id": "1def44be",
   "metadata": {},
   "outputs": [
    {
     "name": "stdout",
     "output_type": "stream",
     "text": [
      "5 x 1 = 5\n",
      "5 x 2 = 10\n",
      "5 x 3 = 15\n",
      "5 x 4 = 20\n",
      "5 x 5 = 25\n",
      "5 x 6 = 30\n",
      "5 x 7 = 35\n",
      "5 x 8 = 40\n",
      "5 x 9 = 45\n",
      "5 x 10 = 50\n"
     ]
    }
   ],
   "source": [
    "n=5\n",
    "for i in range(1,11):\n",
    "    print(f\"{n} x {i} = {n*i}\")"
   ]
  },
  {
   "cell_type": "code",
   "execution_count": 161,
   "id": "7be6524a",
   "metadata": {},
   "outputs": [
    {
     "name": "stdout",
     "output_type": "stream",
     "text": [
      "[1, 4, 9, 16, 25]\n"
     ]
    }
   ],
   "source": [
    "squares = [x**2 for x in range(1, 6)]\n",
    "print(squares)\n"
   ]
  },
  {
   "cell_type": "code",
   "execution_count": 162,
   "id": "3457e6ad",
   "metadata": {},
   "outputs": [
    {
     "name": "stdout",
     "output_type": "stream",
     "text": [
      "[1, 2, 3, 4, 5, 6]\n"
     ]
    }
   ],
   "source": [
    "matrix = [[1, 2], [3, 4], [5, 6]]\n",
    "flat = [num for row in matrix for num in row]\n",
    "print(flat)\n"
   ]
  }
 ],
 "metadata": {
  "kernelspec": {
   "display_name": "base",
   "language": "python",
   "name": "python3"
  },
  "language_info": {
   "codemirror_mode": {
    "name": "ipython",
    "version": 3
   },
   "file_extension": ".py",
   "mimetype": "text/x-python",
   "name": "python",
   "nbconvert_exporter": "python",
   "pygments_lexer": "ipython3",
   "version": "3.12.7"
  }
 },
 "nbformat": 4,
 "nbformat_minor": 5
}
